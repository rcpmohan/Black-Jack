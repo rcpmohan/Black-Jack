{
 "cells": [
  {
   "cell_type": "code",
   "execution_count": 1,
   "id": "73c89161",
   "metadata": {},
   "outputs": [],
   "source": [
    "import random"
   ]
  },
  {
   "cell_type": "code",
   "execution_count": 2,
   "id": "2f74d8a3",
   "metadata": {},
   "outputs": [],
   "source": [
    "suits = ('Hearts', 'Diamonds', 'Spades', 'Clubs')\n",
    "ranks = ('Two', 'Three', 'Four', 'Five', 'Six', 'Seven', 'Eight', 'Nine', 'Ten', 'Jack', 'Queen', 'King', 'Ace')\n",
    "values = {'Two':2, 'Three':3, 'Four':4, 'Five':5, 'Six':6, 'Seven':7, 'Eight':8, \n",
    "            'Nine':9, 'Ten':10, 'Jack':1, 'Queen':1, 'King':1, 'Ace':11}"
   ]
  },
  {
   "cell_type": "code",
   "execution_count": 52,
   "id": "fa4818c6",
   "metadata": {},
   "outputs": [],
   "source": [
    "class Card:\n",
    "    \n",
    "    def __init__(self,suit,rank):\n",
    "        self.suit=suit\n",
    "        self.rank=rank\n",
    "        self.value=values[rank]\n",
    "    def __str__(self):\n",
    "        return self.rank +' of '+self.suit"
   ]
  },
  {
   "cell_type": "code",
   "execution_count": 4,
   "id": "0b1c4731",
   "metadata": {},
   "outputs": [
    {
     "name": "stdout",
     "output_type": "stream",
     "text": [
      "Clubs of Four\n"
     ]
    }
   ],
   "source": [
    "mycard=Card('Clubs','Four')\n",
    "print(mycard)"
   ]
  },
  {
   "cell_type": "code",
   "execution_count": 5,
   "id": "320c2128",
   "metadata": {},
   "outputs": [],
   "source": [
    "class Deck:\n",
    "    def __init__(self):\n",
    "        self.totaldeck=[]\n",
    "        for x in suits:\n",
    "            for y in ranks:\n",
    "                self.totaldeck.append(Card(x,y))\n",
    "    def shuffle(self):\n",
    "        random.shuffle(self.totaldeck)\n",
    "    def getone(self):\n",
    "        return self.totaldeck.pop()\n",
    "        "
   ]
  },
  {
   "cell_type": "code",
   "execution_count": 6,
   "id": "2221f658",
   "metadata": {},
   "outputs": [],
   "source": [
    "sd=Deck()\n"
   ]
  },
  {
   "cell_type": "code",
   "execution_count": 7,
   "id": "79ba550f",
   "metadata": {},
   "outputs": [
    {
     "name": "stdout",
     "output_type": "stream",
     "text": [
      "Clubs of Ace\n",
      "1\n",
      "50\n"
     ]
    }
   ],
   "source": [
    "print(sd.getone())\n",
    "print(sd.getone().value)\n",
    "print(len(sd.totaldeck))"
   ]
  },
  {
   "cell_type": "code",
   "execution_count": 38,
   "id": "330c6227",
   "metadata": {},
   "outputs": [],
   "source": [
    "class Player:\n",
    "    def __init__(self,playername):\n",
    "        self.playername=playername\n",
    "        self.onhandcards=[]\n",
    "    def addcard(self,newcard):\n",
    "        self.onhandcards.append(newcard)\n",
    "        print(newcard)\n",
    "    def displaycard(self):\n",
    "        for card in self.onhandcards:\n",
    "            print(card)\n",
    "    def __str__(self):\n",
    "        print('Hello sir ')\n",
    "        \n",
    "        \n",
    "    \n",
    "    "
   ]
  },
  {
   "cell_type": "code",
   "execution_count": 60,
   "id": "b39e50ea",
   "metadata": {},
   "outputs": [
    {
     "name": "stdout",
     "output_type": "stream",
     "text": [
      "Welcome\n",
      "Three of Spades\n",
      "Jack of Spades\n",
      "4\n",
      "Do you want to add cards? Yes or No : Yes\n",
      "King of Hearts\n",
      "Do you want to add cards? Yes or No : Yes\n",
      "Ace of Spades\n",
      "Do you want to add cards? Yes or No : Yes\n",
      "Ten of Spades\n",
      "final value is  \n",
      "26\n",
      "paaye\n"
     ]
    }
   ],
   "source": [
    "#game logic\n",
    "print(\"Welcome\")\n",
    "gamedeck=Deck()\n",
    "gamedeck.shuffle()\n",
    "player1=Player('Ravi')\n",
    "playeronhandvalue = 0\n",
    "\n",
    "for i in range(2):\n",
    "    x=gamedeck.getone()\n",
    "    player1.addcard(x)\n",
    "    playeronhandvalue=playeronhandvalue+x.value\n",
    "print(playeronhandvalue)\n",
    "\n",
    "    \n",
    "addon=True\n",
    "while addon:\n",
    "    while playeronhandvalue <22:\n",
    "        if 17<playeronhandvalue<21:\n",
    "            player1.displaycard()\n",
    "            print('You have ')\n",
    "            print(playeronhandvalue)\n",
    "            ask=input('Do you want to hold? y/n? you have ')\n",
    "            if ask=='y':\n",
    "                break\n",
    "                addon=False\n",
    "            else:\n",
    "                pass\n",
    "        if playeronhandvalue==21:\n",
    "            print('player1 wins')\n",
    "            \n",
    "            break\n",
    "            addon=False\n",
    "        playerinput=input('Do you want to add cards? Yes or No : ')\n",
    "        if playerinput=='Yes':\n",
    "            y=gamedeck.getone()\n",
    "            player1.addcard(y)\n",
    "            playeronhandvalue=playeronhandvalue+y.value\n",
    "            \n",
    "            continue\n",
    "            \n",
    "        else:\n",
    "            addon=False\n",
    "            break\n",
    "    \n",
    "    \n",
    "    addon=False\n",
    "print('final value is  ')    \n",
    "print(playeronhandvalue)\n",
    "\n",
    "if playeronhandvalue>22:\n",
    "    print('paaye')\n",
    "\n",
    "\n",
    "    \n",
    "            \n",
    "    "
   ]
  }
 ],
 "metadata": {
  "kernelspec": {
   "display_name": "Python 3",
   "language": "python",
   "name": "python3"
  },
  "language_info": {
   "codemirror_mode": {
    "name": "ipython",
    "version": 3
   },
   "file_extension": ".py",
   "mimetype": "text/x-python",
   "name": "python",
   "nbconvert_exporter": "python",
   "pygments_lexer": "ipython3",
   "version": "3.8.8"
  }
 },
 "nbformat": 4,
 "nbformat_minor": 5
}
